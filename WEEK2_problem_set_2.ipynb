{
 "cells": [
  {
   "cell_type": "markdown",
   "metadata": {},
   "source": [
    "### Paying off debt in a year\n",
    "\n",
    "Write a program to calculate the credit card balance after one year if a person only pays the minimum monthly payment required by the credit card company each month."
   ]
  },
  {
   "cell_type": "markdown",
   "metadata": {},
   "source": [
    "The following variables contain values as described below and will be pre-defined:<br\\>\n",
    "balance - the outstanding balance on the credit card<br\\>\n",
    "annualInterestRate - annual interest rate as a decimal<br\\>\n",
    "monthlyPaymentRate - minimum monthly payment rate as a decimal<br\\>"
   ]
  },
  {
   "cell_type": "markdown",
   "metadata": {},
   "source": [
    "Some formulas I need to be using:<br\\>\n",
    "Monthly interest rate= (Annual interest rate) / 12.0<br\\>\n",
    "Minimum monthly payment = (Minimum monthly payment rate) x (Previous balance)<br\\>\n",
    "Monthly unpaid balance = (Previous balance) - (Minimum monthly payment)<br\\>\n",
    "Updated balance each month = (Monthly unpaid balance) + (Monthly interest rate x Monthly unpaid balance)<br\\>"
   ]
  },
  {
   "cell_type": "code",
   "execution_count": 1,
   "metadata": {
    "collapsed": true
   },
   "outputs": [],
   "source": [
    "balance = 42\n",
    "annualInterestRate = 0.2\n",
    "monthlyPaymentRate = 0.04"
   ]
  },
  {
   "cell_type": "markdown",
   "metadata": {},
   "source": [
    "\t      # Result Your Code Should Generate Below:\n",
    "\t      Remaining balance: 31.38\n",
    "                    \n",
    "          # To make sure you are doing calculation correctly, this is the \n",
    "          # remaining balance you should be getting at each month for this example\n",
    "            Month 1 Remaining balance: 40.99\n",
    "            Month 2 Remaining balance: 40.01\n",
    "            Month 3 Remaining balance: 39.05\n",
    "            Month 4 Remaining balance: 38.11\n",
    "            Month 5 Remaining balance: 37.2\n",
    "            Month 6 Remaining balance: 36.3\n",
    "            Month 7 Remaining balance: 35.43\n",
    "            Month 8 Remaining balance: 34.58\n",
    "            Month 9 Remaining balance: 33.75\n",
    "            Month 10 Remaining balance: 32.94\n",
    "            Month 11 Remaining balance: 32.15\n",
    "            Month 12 Remaining balance: 31.38"
   ]
  },
  {
   "cell_type": "code",
   "execution_count": 3,
   "metadata": {
    "collapsed": true
   },
   "outputs": [],
   "source": [
    "# initialise month = 0\n",
    "month = 0\n",
    "\n",
    "def creditBalance(month):\n",
    "    '''\n",
    "    PURPOSE\n",
    "    *******\n",
    "    This function calculates the credit card balance after one \n",
    "    year if a person only pays the minimum monthly payment \n",
    "    required by the credit card company each month\n",
    "    \n",
    "    ARGUMENTS\n",
    "    *********\n",
    "    balance - the outstanding balance on the credit card\n",
    "    annualInterestRate - annual interest rate as a decimal\n",
    "    monthlyPaymentRate - minimum monthly payment rate as a decimal\n",
    "    \n",
    "    RETURNS\n",
    "    *******\n",
    "    Remaining balance at the end of 12 months\n",
    "    \n",
    "    TO DO\n",
    "    *****\n",
    "    no error checking has been done. \n",
    "    '''\n",
    "    "
   ]
  },
  {
   "cell_type": "code",
   "execution_count": 4,
   "metadata": {
    "collapsed": false
   },
   "outputs": [
    {
     "data": {
      "text/plain": [
       "42"
      ]
     },
     "execution_count": 4,
     "metadata": {},
     "output_type": "execute_result"
    }
   ],
   "source": [
    "creditBalance()"
   ]
  },
  {
   "cell_type": "code",
   "execution_count": null,
   "metadata": {
    "collapsed": true
   },
   "outputs": [],
   "source": []
  }
 ],
 "metadata": {
  "kernelspec": {
   "display_name": "Python [mit6001x_course]",
   "language": "python",
   "name": "Python [mit6001x_course]"
  },
  "language_info": {
   "codemirror_mode": {
    "name": "ipython",
    "version": 3
   },
   "file_extension": ".py",
   "mimetype": "text/x-python",
   "name": "python",
   "nbconvert_exporter": "python",
   "pygments_lexer": "ipython3",
   "version": "3.5.2"
  }
 },
 "nbformat": 4,
 "nbformat_minor": 0
}
