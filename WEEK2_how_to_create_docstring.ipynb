{
 "cells": [
  {
   "cell_type": "code",
   "execution_count": 1,
   "metadata": {
    "collapsed": false
   },
   "outputs": [
    {
     "name": "stdout",
     "output_type": "stream",
     "text": [
      "Returns: None\n"
     ]
    }
   ],
   "source": [
    "def no_op_function():\n",
    "    \"\"\"\n",
    "    This function does nothing and has valid syntax\n",
    "    using only a docstring as body\n",
    "    \"\"\"\n",
    "\n",
    "print(\"Returns: {0}\".format(no_op_function()))"
   ]
  },
  {
   "cell_type": "code",
   "execution_count": 2,
   "metadata": {
    "collapsed": false
   },
   "outputs": [
    {
     "name": "stdout",
     "output_type": "stream",
     "text": [
      "Help on function no_op_function in module __main__:\n",
      "\n",
      "no_op_function()\n",
      "    This function does nothing and has valid syntax\n",
      "    using only a docstring as body\n",
      "\n"
     ]
    }
   ],
   "source": [
    "help(no_op_function)"
   ]
  },
  {
   "cell_type": "code",
   "execution_count": 3,
   "metadata": {
    "collapsed": false
   },
   "outputs": [
    {
     "data": {
      "text/plain": [
       "'\\n    This function does nothing and has valid syntax\\n    using only a docstring as body\\n    '"
      ]
     },
     "execution_count": 3,
     "metadata": {},
     "output_type": "execute_result"
    }
   ],
   "source": [
    "no_op_function.__doc__"
   ]
  }
 ],
 "metadata": {
  "anaconda-cloud": {},
  "kernelspec": {
   "display_name": "Python [mit6001x_course]",
   "language": "python",
   "name": "Python [mit6001x_course]"
  },
  "language_info": {
   "codemirror_mode": {
    "name": "ipython",
    "version": 3
   },
   "file_extension": ".py",
   "mimetype": "text/x-python",
   "name": "python",
   "nbconvert_exporter": "python",
   "pygments_lexer": "ipython3",
   "version": "3.5.2"
  }
 },
 "nbformat": 4,
 "nbformat_minor": 0
}
