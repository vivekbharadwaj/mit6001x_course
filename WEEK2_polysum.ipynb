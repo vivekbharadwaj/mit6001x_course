{
 "cells": [
  {
   "cell_type": "code",
   "execution_count": 18,
   "metadata": {
    "collapsed": false
   },
   "outputs": [],
   "source": [
    "from math import tan,pi\n",
    "def polysum(n,s):\n",
    "    '''\n",
    "    PURPOSE\n",
    "    *******\n",
    "    This function should sum the area and square of the perimeter \n",
    "    of the regular polygon\n",
    "    \n",
    "    ARGUMENTS\n",
    "    *********\n",
    "    n: number of sides of polygon \n",
    "    s: Each side has length s\n",
    "    \n",
    "    RETURNS\n",
    "    *******\n",
    "    The function returns the sum, rounded to 4 decimal places.\n",
    "    \n",
    "    TO DO\n",
    "    *****\n",
    "    no error checking has been done. \n",
    "    '''\n",
    "    area = 0.25*n*s*s/tan(pi/n)\n",
    "    perimeter = n*s\n",
    "    \n",
    "    return round(area+perimeter**2,4)"
   ]
  },
  {
   "cell_type": "code",
   "execution_count": 19,
   "metadata": {
    "collapsed": false
   },
   "outputs": [
    {
     "name": "stdout",
     "output_type": "stream",
     "text": [
      "Help on function polysum in module __main__:\n",
      "\n",
      "polysum(n, s)\n",
      "    PURPOSE\n",
      "    *******\n",
      "    This function should sum the area and square of the perimeter \n",
      "    of the regular polygon\n",
      "    \n",
      "    ARGUMENTS\n",
      "    *********\n",
      "    n: number of sides of polygon \n",
      "    s: Each side has length s\n",
      "    \n",
      "    RETURNS\n",
      "    *******\n",
      "    The function returns the sum, rounded to 4 decimal places.\n",
      "    \n",
      "    TO DO\n",
      "    *****\n",
      "    no error checking has been done.\n",
      "\n"
     ]
    }
   ],
   "source": [
    "help(polysum)"
   ]
  },
  {
   "cell_type": "code",
   "execution_count": 20,
   "metadata": {
    "collapsed": false
   },
   "outputs": [
    {
     "data": {
      "text/plain": [
       "150.9282"
      ]
     },
     "execution_count": 20,
     "metadata": {},
     "output_type": "execute_result"
    }
   ],
   "source": [
    "polysum(3,4)"
   ]
  },
  {
   "cell_type": "code",
   "execution_count": null,
   "metadata": {
    "collapsed": true
   },
   "outputs": [],
   "source": []
  }
 ],
 "metadata": {
  "anaconda-cloud": {},
  "kernelspec": {
   "display_name": "Python [mit6001x_course]",
   "language": "python",
   "name": "Python [mit6001x_course]"
  },
  "language_info": {
   "codemirror_mode": {
    "name": "ipython",
    "version": 3
   },
   "file_extension": ".py",
   "mimetype": "text/x-python",
   "name": "python",
   "nbconvert_exporter": "python",
   "pygments_lexer": "ipython3",
   "version": "3.5.2"
  }
 },
 "nbformat": 4,
 "nbformat_minor": 0
}
